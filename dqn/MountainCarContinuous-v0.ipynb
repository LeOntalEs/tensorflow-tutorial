{
 "cells": [
  {
   "cell_type": "code",
   "execution_count": 1,
   "metadata": {
    "collapsed": true
   },
   "outputs": [],
   "source": [
    "%matplotlib inline\n",
    "from time import sleep\n",
    "\n",
    "import gym\n",
    "import numpy as np\n",
    "import tensorflow as tf\n",
    "import matplotlib.pyplot as plt\n",
    "env = gym.make('MountainCarContinuous-v0')"
   ]
  },
  {
   "cell_type": "code",
   "execution_count": 5,
   "metadata": {},
   "outputs": [
    {
     "name": "stdout",
     "output_type": "stream",
     "text": [
      "Box(1,)\n",
      "0: [ 0.95723668] [-0.41373489  0.00063119] -0.09163020700865569 False\n",
      "1: [ 0.59831713] [-0.41301536  0.00071953] -0.03579833861768462 False\n",
      "2: [-0.07704128] [ -4.13225638e-01  -2.10279973e-04] -0.0005935358129763408 False\n",
      "3: [ 0.56105835] [ -4.13407085e-01  -1.81447036e-04] -0.03147864749918288 False\n",
      "4: [-0.76345115] [-0.41554518 -0.00213809] -0.05828576557827703 False\n",
      "5: [ 0.27984204] [-0.41805979 -0.00251461] -0.00783115688373495 False\n",
      "6: [-0.71329343] [-0.42242272 -0.00436294] -0.05087875104077371 False\n",
      "7: [ 0.88933783] [-0.42619887 -0.00377615] -0.07909217831601989 False\n",
      "8: [ 0.04369664] [-0.43062963 -0.00443075] -0.00019093966531786202 False\n",
      "9: [-0.17067612] [-0.43600466 -0.00537503] -0.002913033794472399 False\n"
     ]
    }
   ],
   "source": [
    "state = env.reset()\n",
    "print(env.action_space)\n",
    "for i in range(10):\n",
    "    env.render()\n",
    "    action = env.action_space.sample()\n",
    "    state, reward, done, _ = env.step(action)\n",
    "    print(\"{}: {} {} {} {}\".format(i, action, state, reward, done))\n",
    "    sleep(0.01)"
   ]
  },
  {
   "cell_type": "code",
   "execution_count": 10,
   "metadata": {
    "collapsed": true
   },
   "outputs": [],
   "source": [
    "learning_rate = 0.05\n",
    "\n",
    "_inparam = 2\n",
    "_h1 = 5"
   ]
  },
  {
   "cell_type": "code",
   "execution_count": 11,
   "metadata": {},
   "outputs": [],
   "source": [
    "_input = tf.placeholder(shape=[1, _inparam], dtype=tf.float32)\n",
    "w1 = tf.Variable(tf.random_uniform([_inparam, _h1],0 , 0.01))\n",
    "b1 = tf.Variable(tf.random_uniform([1, _h1],0 , 0.01))\n",
    "h1 = tf.tanh(tf.add(tf.matmul(_input, w1), b1))\n",
    "\n",
    "w2 = tf.Variable(tf.random_uniform([_h1, 1],0 , 0.01))\n",
    "b2 = tf.Variable(tf.random_uniform([_h1, 1],0 , 0.01))\n",
    "Q = tf.tanh(tf.add(tf.matmul(_input, w1), b1))\n",
    "\n",
    "Qe = tf.placeholder(dtype=tf.float32)\n",
    "error = tf.reduce_sum(tf.square(Qe - Q))\n",
    "trainer = tf.train.GradientDescentOptimizer(learning_rate=learning_rate).minimize(error)"
   ]
  },
  {
   "cell_type": "code",
   "execution_count": null,
   "metadata": {
    "collapsed": true
   },
   "outputs": [],
   "source": [
    "\n",
    "init = tf.global_variables_initializer()\n",
    "\n",
    "steps = [0]\n",
    "\n",
    "with tf.Session() as sess:\n",
    "    sess.run(init)\n",
    "    for episode in rnage(100):\n",
    "        state = env.reset()\n",
    "        done = False\n",
    "        "
   ]
  },
  {
   "cell_type": "code",
   "execution_count": null,
   "metadata": {
    "collapsed": true
   },
   "outputs": [],
   "source": []
  },
  {
   "cell_type": "code",
   "execution_count": null,
   "metadata": {
    "collapsed": true
   },
   "outputs": [],
   "source": []
  }
 ],
 "metadata": {
  "kernelspec": {
   "display_name": "tf-py3",
   "language": "python",
   "name": "tf-py3"
  },
  "language_info": {
   "codemirror_mode": {
    "name": "ipython",
    "version": 3
   },
   "file_extension": ".py",
   "mimetype": "text/x-python",
   "name": "python",
   "nbconvert_exporter": "python",
   "pygments_lexer": "ipython3",
   "version": "3.5.2"
  }
 },
 "nbformat": 4,
 "nbformat_minor": 2
}
