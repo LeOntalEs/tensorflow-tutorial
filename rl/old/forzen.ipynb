{
 "cells": [
  {
   "cell_type": "markdown",
   "metadata": {},
   "source": [
    "# Deep Q Network (DQN)\n",
    "\n",
    "$Q_{s,a} \\Leftarrow  R_{s,a} + \\gamma . max\\left(Q_{s', a^*}\\right)$\n",
    "\n",
    "$Q_{s,a}$ should be equal the immediate reward ($R_{s,a}$) plus the best reward of the future state ($max\\left(Q_{s', a^*}\\right)$)"
   ]
  },
  {
   "cell_type": "code",
   "execution_count": 1,
   "metadata": {},
   "outputs": [],
   "source": [
    "%matplotlib inline\n",
    "import matplotlib.pyplot as plt\n",
    "import gym\n",
    "import numpy as np\n",
    "import random\n",
    "import tensorflow as tf\n",
    "env = gym.make('FrozenLake-v0')\n",
    "alpha=0.05\n",
    "beta = 0.8\n",
    "gamma = .95\n",
    "num_episodes = 1000"
   ]
  },
  {
   "cell_type": "code",
   "execution_count": 2,
   "metadata": {
    "collapsed": true
   },
   "outputs": [],
   "source": [
    "#Forward\n",
    "tf.reset_default_graph()\n",
    "tf_s = tf.placeholder(shape=[1,16],dtype=tf.float32)\n",
    "tf_W = tf.Variable(tf.random_uniform([16,4],0,0.01))\n",
    "tf_b = tf.Variable(tf.random_uniform([1,4],0,0.01))\n",
    "tf_Q = tf.add(tf.matmul(tf_s,tf_W),tf_b)\n",
    "tf_a = tf.argmax(tf_Q,1)\n",
    "\n",
    "#Backward\n",
    "tf_Qn = tf.placeholder(shape=[1,4],dtype=tf.float32)\n",
    "Error = tf.reduce_sum(tf.square(tf_Qn - tf_Q))\n",
    "train= tf.train.GradientDescentOptimizer(learning_rate=alpha).minimize(Error)"
   ]
  },
  {
   "cell_type": "code",
   "execution_count": 3,
   "metadata": {},
   "outputs": [
    {
     "data": {
      "text/plain": [
       "[<matplotlib.lines.Line2D at 0x7fd073d46390>]"
      ]
     },
     "execution_count": 3,
     "metadata": {},
     "output_type": "execute_result"
    },
    {
     "data": {
      "image/png": "[encoded data removed]",
      "text/plain": [
       "<matplotlib.figure.Figure at 0x7fd0b8f6df98>"
      ]
     },
     "metadata": {},
     "output_type": "display_data"
    }
   ],
   "source": [
    "init = tf.global_variables_initializer()\n",
    "\n",
    "reward_list=[]\n",
    "with tf.Session() as sess:\n",
    "    sess.run(init)\n",
    "    for i in range(num_episodes):\n",
    "        s = env.reset()\n",
    "        done = False\n",
    "        while done==False:\n",
    "            a,allQ = sess.run([tf_a,tf_Q],feed_dict={tf_s:np.identity(16)[s:s+1]})\n",
    "            if np.random.rand(1) < beta:\n",
    "                a[0] = env.action_space.sample()\n",
    "            #take action\n",
    "            s1,reward,done,info = env.step(a[0])\n",
    "            if done:#reaching goal or falling into a hole\n",
    "                if reward:\n",
    "                    beta=beta*0.8\n",
    "                    r=1\n",
    "                else:\n",
    "                    r=-1\n",
    "            else:#reaching maximum step\n",
    "                r = 0.0\n",
    "            #obtian Q of the next step\n",
    "            Q_next= sess.run(tf_Q,feed_dict={tf_s:np.identity(16)[s1:s1+1]})\n",
    "            #find the best reward\n",
    "            allQ[0,a[0]] = r + gamma*np.max(Q_next)\n",
    "            sess.run([train],feed_dict={tf_s:np.identity(16)[s:s+1],tf_Qn:allQ})\n",
    "            s = s1\n",
    "            if done == True:\n",
    "                break\n",
    "        reward_list.append(reward)\n",
    "    W,b=sess.run([tf_W,tf_b])\n",
    "plt.plot(np.convolve(np.ones(100),reward_list,\"valid\"))"
   ]
  },
  {
   "cell_type": "code",
   "execution_count": 4,
   "metadata": {},
   "outputs": [
    {
     "data": {
      "text/plain": [
       "array([[ 0.,  0.,  1.,  0.,  0.,  0.,  0.,  0.,  0.,  0.,  0.,  0.,  0.,\n",
       "         0.,  0.,  0.]])"
      ]
     },
     "execution_count": 4,
     "metadata": {},
     "output_type": "execute_result"
    }
   ],
   "source": [
    "np.identity(16)[[2]]"
   ]
  },
  {
   "cell_type": "code",
   "execution_count": 5,
   "metadata": {
    "collapsed": true
   },
   "outputs": [],
   "source": [
    "a=np.random.randint(10,size=(3,3))"
   ]
  },
  {
   "cell_type": "code",
   "execution_count": 6,
   "metadata": {},
   "outputs": [
    {
     "data": {
      "text/plain": [
       "array([[6, 6, 7],\n",
       "       [2, 8, 0],\n",
       "       [6, 4, 6]])"
      ]
     },
     "execution_count": 6,
     "metadata": {},
     "output_type": "execute_result"
    }
   ],
   "source": [
    "a"
   ]
  },
  {
   "cell_type": "code",
   "execution_count": 7,
   "metadata": {},
   "outputs": [
    {
     "data": {
      "text/plain": [
       "array([[6, 8, 4]])"
      ]
     },
     "execution_count": 7,
     "metadata": {},
     "output_type": "execute_result"
    }
   ],
   "source": [
    "a.T[[1]]"
   ]
  },
  {
   "cell_type": "code",
   "execution_count": null,
   "metadata": {
    "collapsed": true
   },
   "outputs": [],
   "source": []
  }
 ],
 "metadata": {
  "kernelspec": {
   "display_name": "tf-py3",
   "language": "python",
   "name": "tf-py3"
  },
  "language_info": {
   "codemirror_mode": {
    "name": "ipython",
    "version": 3
   },
   "file_extension": ".py",
   "mimetype": "text/x-python",
   "name": "python",
   "nbconvert_exporter": "python",
   "pygments_lexer": "ipython3",
   "version": "3.5.2"
  }
 },
 "nbformat": 4,
 "nbformat_minor": 2
}
