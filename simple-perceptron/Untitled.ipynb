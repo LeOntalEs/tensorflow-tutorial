{
 "cells": [
  {
   "cell_type": "code",
   "execution_count": 1,
   "metadata": {},
   "outputs": [],
   "source": [
    "import tensorflow as tf\n",
    "from tensorflow.examples.tutorials.mnist import input_data\n"
   ]
  },
  {
   "cell_type": "code",
   "execution_count": 2,
   "metadata": {},
   "outputs": [
    {
     "name": "stdout",
     "output_type": "stream",
     "text": [
      "Extracting MNIST_data/train-images-idx3-ubyte.gz\n",
      "Extracting MNIST_data/train-labels-idx1-ubyte.gz\n",
      "Extracting MNIST_data/t10k-images-idx3-ubyte.gz\n",
      "Extracting MNIST_data/t10k-labels-idx1-ubyte.gz\n"
     ]
    }
   ],
   "source": [
    "mnist = input_data.read_data_sets(\"MNIST_data/\", one_hot=True)"
   ]
  },
  {
   "cell_type": "code",
   "execution_count": 3,
   "metadata": {},
   "outputs": [
    {
     "name": "stdout",
     "output_type": "stream",
     "text": [
      "[[ 0.  0.  0. ...,  1.  0.  0.]\n",
      " [ 0.  0.  0. ...,  0.  0.  0.]\n",
      " [ 0.  0.  0. ...,  0.  0.  0.]\n",
      " ..., \n",
      " [ 0.  0.  0. ...,  0.  0.  0.]\n",
      " [ 0.  0.  0. ...,  0.  0.  0.]\n",
      " [ 0.  0.  0. ...,  0.  1.  0.]]\n"
     ]
    }
   ],
   "source": [
    "train, test, val = mnist\n",
    "print(train.labels)"
   ]
  },
  {
   "cell_type": "code",
   "execution_count": 9,
   "metadata": {},
   "outputs": [],
   "source": [
    "input_layer = tf.placeholder(shape=[None, 784], dtype=tf.float32)\n",
    "hidden_layer = tf.contrib.layers.fully_connected(input_layer, 300, activation_fn=tf.nn.softmax)\n",
    "output_layer = tf.contrib.layers.fully_connected(hidden_layer, 10, activation_fn=tf.nn.softmax)\n",
    "\n",
    "\n",
    "label = tf.placeholder(shape=[None, 10], dtype=tf.float32)\n",
    "loss = tf.reduce_mean(tf.square(label - output_layer))\n",
    "trainer = tf.train.GradientDescentOptimizer(1e-3).minimize(loss)\n",
    "\n",
    "correct_prediction = tf.equal(tf.argmax(output_layer,1), tf.argmax(label,1))\n",
    "accuracy = tf.reduce_mean(tf.cast(correct_prediction, tf.float32))"
   ]
  },
  {
   "cell_type": "code",
   "execution_count": 16,
   "metadata": {},
   "outputs": [
    {
     "name": "stdout",
     "output_type": "stream",
     "text": [
      "In batch 0, loss 0.090, accurency 0.129\n",
      "In batch 100, loss 0.090, accurency 0.129\n",
      "In batch 200, loss 0.090, accurency 0.129\n",
      "In batch 300, loss 0.090, accurency 0.129\n",
      "In batch 400, loss 0.090, accurency 0.129\n",
      "In batch 500, loss 0.090, accurency 0.129\n",
      "In batch 600, loss 0.090, accurency 0.129\n",
      "In batch 700, loss 0.090, accurency 0.129\n",
      "In batch 800, loss 0.090, accurency 0.129\n",
      "In batch 900, loss 0.090, accurency 0.129\n",
      "In batch 1000, loss 0.090, accurency 0.128\n",
      "In batch 1100, loss 0.090, accurency 0.129\n",
      "In batch 1200, loss 0.090, accurency 0.128\n",
      "In batch 1300, loss 0.090, accurency 0.128\n",
      "In batch 1400, loss 0.090, accurency 0.128\n",
      "In batch 1500, loss 0.090, accurency 0.129\n",
      "In batch 1600, loss 0.090, accurency 0.129\n",
      "In batch 1700, loss 0.090, accurency 0.128\n",
      "In batch 1800, loss 0.090, accurency 0.128\n",
      "In batch 1900, loss 0.090, accurency 0.128\n",
      "In batch 2000, loss 0.090, accurency 0.128\n",
      "In batch 2100, loss 0.090, accurency 0.127\n",
      "In batch 2200, loss 0.090, accurency 0.127\n",
      "In batch 2300, loss 0.090, accurency 0.128\n",
      "In batch 2400, loss 0.090, accurency 0.128\n",
      "In batch 2500, loss 0.090, accurency 0.127\n",
      "In batch 2600, loss 0.090, accurency 0.127\n",
      "In batch 2700, loss 0.090, accurency 0.127\n",
      "In batch 2800, loss 0.090, accurency 0.127\n",
      "In batch 2900, loss 0.090, accurency 0.127\n",
      "In batch 3000, loss 0.090, accurency 0.127\n",
      "In batch 3100, loss 0.090, accurency 0.127\n",
      "In batch 3200, loss 0.090, accurency 0.127\n",
      "In batch 3300, loss 0.090, accurency 0.127\n",
      "In batch 3400, loss 0.090, accurency 0.127\n",
      "In batch 3500, loss 0.090, accurency 0.127\n",
      "In batch 3600, loss 0.090, accurency 0.127\n",
      "In batch 3700, loss 0.090, accurency 0.127\n",
      "In batch 3800, loss 0.090, accurency 0.127\n",
      "In batch 3900, loss 0.090, accurency 0.127\n",
      "In batch 4000, loss 0.090, accurency 0.127\n",
      "In batch 4100, loss 0.090, accurency 0.127\n",
      "In batch 4200, loss 0.090, accurency 0.127\n",
      "In batch 4300, loss 0.090, accurency 0.127\n",
      "In batch 4400, loss 0.090, accurency 0.128\n",
      "In batch 4500, loss 0.090, accurency 0.128\n",
      "In batch 4600, loss 0.090, accurency 0.127\n",
      "In batch 4700, loss 0.090, accurency 0.127\n",
      "In batch 4800, loss 0.090, accurency 0.126\n",
      "In batch 4900, loss 0.090, accurency 0.126\n"
     ]
    }
   ],
   "source": [
    "with tf.Session() as sess:\n",
    "    tf.global_variables_initializer().run()\n",
    "    for batch in range(5000):\n",
    "        X, Y = train.next_batch(100)\n",
    "        _, ls = sess.run([trainer, loss], feed_dict={input_layer: X, label: Y})\n",
    "        if batch%100 == 0:\n",
    "            acc = sess.run(accuracy, feed_dict={input_layer: test.images, label: test.labels})\n",
    "            print(\"In batch {}, loss {:.3f}, accurency {:.3f}\".format(batch, ls, acc))"
   ]
  },
  {
   "cell_type": "code",
   "execution_count": null,
   "metadata": {
    "collapsed": true
   },
   "outputs": [],
   "source": []
  }
 ],
 "metadata": {
  "kernelspec": {
   "display_name": "tf-py3",
   "language": "python",
   "name": "tf-py3"
  },
  "language_info": {
   "codemirror_mode": {
    "name": "ipython",
    "version": 3
   },
   "file_extension": ".py",
   "mimetype": "text/x-python",
   "name": "python",
   "nbconvert_exporter": "python",
   "pygments_lexer": "ipython3",
   "version": "3.5.2"
  }
 },
 "nbformat": 4,
 "nbformat_minor": 2
}
